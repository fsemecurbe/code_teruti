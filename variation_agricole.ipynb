{
 "cells": [
  {
   "cell_type": "code",
   "execution_count": 3,
   "id": "8351d4d7",
   "metadata": {},
   "outputs": [],
   "source": [
    "import geopandas as gpd\n",
    "import pandas as pd\n",
    "import numpy as np\n",
    "rng = np.random.default_rng()\n",
    "\n",
    "import urllib.request\n",
    "\n",
    "\n",
    "import matplotlib.pyplot as plt\n",
    "from multiprocessing import Pool"
   ]
  },
  {
   "cell_type": "markdown",
   "id": "9028ede3-3db0-4fbb-bded-d1d30a182abf",
   "metadata": {},
   "source": [
    "#### Chargement des données spatiales"
   ]
  },
  {
   "cell_type": "code",
   "execution_count": 6,
   "id": "c1c2002a",
   "metadata": {},
   "outputs": [],
   "source": [
    "urllib.request.urlretrieve('https://minio.lab.sspcloud.fr/h529p3/data/rpg202131.parquet', \"sdf.parquet\")\n",
    "sdf = gpd.read_parquet('sdf.parquet')"
   ]
  },
  {
   "cell_type": "code",
   "execution_count": 8,
   "id": "2167e6e8",
   "metadata": {},
   "outputs": [],
   "source": [
    "urllib.request.urlretrieve('https://minio.lab.sspcloud.fr/h529p3/data/DEPARTEMENT.parquet', \"departement.parquet\")\n",
    "departement = gpd.read_parquet('departement.parquet')"
   ]
  },
  {
   "cell_type": "markdown",
   "id": "3fa7dc6e-a905-4f2d-994e-f79e213696a1",
   "metadata": {},
   "source": [
    "Calcul de la part batî occupée dans le département (la vraie valeur) : "
   ]
  },
  {
   "cell_type": "code",
   "execution_count": 44,
   "id": "7f71fcbc-3966-4bbc-a0c4-69ee78f533c3",
   "metadata": {},
   "outputs": [],
   "source": [
    "sdf_d = gpd.sjoin(departement, sdf) \n",
    "sdf_d = sdf.iloc[sdf_d.index_right]\n",
    "sdf_d = gpd.clip(sdf_d, departement)"
   ]
  },
  {
   "cell_type": "markdown",
   "id": "76d306a4-808a-44d0-8f67-0287c2508e6c",
   "metadata": {},
   "source": [
    "Le taux de surface agricole est : "
   ]
  },
  {
   "cell_type": "code",
   "execution_count": 45,
   "id": "c28292eb-e895-4650-872d-5f1758a487a6",
   "metadata": {},
   "outputs": [
    {
     "data": {
      "text/plain": [
       "55.40019906657781"
      ]
     },
     "execution_count": 45,
     "metadata": {},
     "output_type": "execute_result"
    }
   ],
   "source": [
    "sdf_d.area.sum() / departement.area.sum() * 100"
   ]
  },
  {
   "cell_type": "markdown",
   "id": "54ad760c-b00c-40ac-bf53-a08ec3cc978d",
   "metadata": {},
   "source": [
    "## Sensibilité au choix de l'origine d'une grille régulière"
   ]
  },
  {
   "cell_type": "markdown",
   "id": "b0c26ad7-f52d-4c14-8229-913ba4377178",
   "metadata": {},
   "source": [
    "#### Constitution d'une grille régulière"
   ]
  },
  {
   "cell_type": "code",
   "execution_count": 14,
   "id": "088e3b63-c9c8-4a5c-9cee-84d9054b9a1f",
   "metadata": {},
   "outputs": [],
   "source": [
    "size = 250 # taille de la grille"
   ]
  },
  {
   "cell_type": "code",
   "execution_count": 15,
   "id": "200877ca",
   "metadata": {},
   "outputs": [],
   "source": [
    "xmin = np.floor(departement.bounds.minx.values[0]/size) * size - size\n",
    "xmax = np.ceil(departement.bounds.maxx.values[0]/size) * size + 2 * size\n",
    "ymin = np.floor(departement.bounds.miny.values[0]/size) * size - size\n",
    "ymax = np.ceil(departement.bounds.maxy.values[0]/size) * size + size"
   ]
  },
  {
   "cell_type": "code",
   "execution_count": 16,
   "id": "75437c1d",
   "metadata": {},
   "outputs": [],
   "source": [
    "x = np.arange(xmin,xmax+size,step=size)\n",
    "y = np.arange(ymin,ymax+size,step=size)\n",
    "result = np.transpose([np.tile(x, len(y)), np.repeat(y, len(x))])\n",
    "df = pd.DataFrame(result, columns=['x', 'y'])"
   ]
  },
  {
   "cell_type": "markdown",
   "id": "1220c890-38ed-405c-84c4-a9571abe411b",
   "metadata": {},
   "source": [
    "#### Calcul de la sensibilité"
   ]
  },
  {
   "cell_type": "code",
   "execution_count": 17,
   "id": "453e560e",
   "metadata": {},
   "outputs": [],
   "source": [
    "def calcul_grille(offset):\n",
    "    grid = gpd.GeoDataFrame(df, geometry=gpd.points_from_xy(df.x+offset[0], df.y+offset[1]), crs=\"EPSG:2154\")\n",
    "    temp_d = gpd.sjoin(departement, grid)\n",
    "    temp_b = gpd.sjoin(grid.iloc[temp_d.index_right],sdf_d)\n",
    "    return([temp_d.shape[0], temp_b.shape[0]])"
   ]
  },
  {
   "cell_type": "code",
   "execution_count": 32,
   "id": "9d639e7a-956f-4047-89f9-4df83a391551",
   "metadata": {},
   "outputs": [],
   "source": [
    "set_offset = 2 # je décalle la grille de set_offset m en setoffset m \n",
    "x_off = np.arange(0,250, set_offset)\n",
    "y_off = np.arange(0,250, set_offset)\n",
    "offsets = list(zip(np.tile(x_off,len(y_off)), np.repeat(y_off, len(x_off))))"
   ]
  },
  {
   "cell_type": "code",
   "execution_count": 33,
   "id": "30243dbe-46c8-4bf2-b83f-d20a5156154d",
   "metadata": {
    "editable": true,
    "slideshow": {
     "slide_type": ""
    },
    "tags": []
   },
   "outputs": [],
   "source": [
    "with Pool(10) as pool: # je paralléliqse les résultats. \n",
    "    test = (pool.map(calcul_grille, offsets))"
   ]
  },
  {
   "cell_type": "code",
   "execution_count": null,
   "id": "a88eea0e",
   "metadata": {},
   "outputs": [],
   "source": [
    "test = pd.DataFrame(np.array(test), columns=['pts_dep', 'pts_build'])"
   ]
  },
  {
   "cell_type": "code",
   "execution_count": null,
   "id": "c554f5c6",
   "metadata": {},
   "outputs": [],
   "source": [
    "test['x_off'] = [offset[0] for offset in offsets]\n",
    "test['y_off'] = [offset[1] for offset in offsets]"
   ]
  },
  {
   "cell_type": "markdown",
   "id": "eae1c8c8-9dc9-4fa0-8d59-8d114843817f",
   "metadata": {},
   "source": [
    "#### Examen des résultats"
   ]
  },
  {
   "cell_type": "code",
   "execution_count": 38,
   "id": "bb0be07d",
   "metadata": {},
   "outputs": [],
   "source": [
    "test['tx_art'] = test.pts_build / test.pts_dep * 100"
   ]
  },
  {
   "cell_type": "code",
   "execution_count": 39,
   "id": "0de5e8e9",
   "metadata": {},
   "outputs": [
    {
     "data": {
      "image/png": "[encoded data removed]",
      "text/plain": [
       "<Figure size 640x480 with 1 Axes>"
      ]
     },
     "metadata": {},
     "output_type": "display_data"
    }
   ],
   "source": [
    "test.hist('tx_art', bins=60)\n",
    "plt.title('Moyenne : ' + str(np.round(np.mean(test.tx_art),3)) + ' - Ecart type : ' +  str(np.std(test.tx_art)));"
   ]
  },
  {
   "cell_type": "code",
   "execution_count": 71,
   "id": "ee04b175-d895-46e6-be8f-1fe97c309c75",
   "metadata": {},
   "outputs": [],
   "source": [
    "test.to_parquet('analyse_2m_agricole_31.csv')"
   ]
  },
  {
   "cell_type": "code",
   "execution_count": null,
   "id": "190602df-c884-4b1a-b1cc-e72d91809b6a",
   "metadata": {},
   "outputs": [],
   "source": []
  }
 ],
 "metadata": {
  "kernelspec": {
   "display_name": "Python 3 (ipykernel)",
   "language": "python",
   "name": "python3"
  },
  "language_info": {
   "codemirror_mode": {
    "name": "ipython",
    "version": 3
   },
   "file_extension": ".py",
   "mimetype": "text/x-python",
   "name": "python",
   "nbconvert_exporter": "python",
   "pygments_lexer": "ipython3",
   "version": "3.11.4"
  }
 },
 "nbformat": 4,
 "nbformat_minor": 5
}
