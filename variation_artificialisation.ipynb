{
 "cells": [
  {
   "cell_type": "code",
   "execution_count": 55,
   "id": "8351d4d7",
   "metadata": {},
   "outputs": [],
   "source": [
    "import geopandas as gpd\n",
    "import pandas as pd\n",
    "import numpy as np\n",
    "rng = np.random.default_rng()\n",
    "\n",
    "import matplotlib.pyplot as plt\n",
    "from multiprocessing import Pool"
   ]
  },
  {
   "cell_type": "markdown",
   "id": "9028ede3-3db0-4fbb-bded-d1d30a182abf",
   "metadata": {},
   "source": [
    "#### Chargement des données spatiales"
   ]
  },
  {
   "cell_type": "code",
   "execution_count": 2,
   "id": "c1c2002a",
   "metadata": {},
   "outputs": [],
   "source": [
    "batiment = gpd.read_parquet('BATIMENT_s.parquet')"
   ]
  },
  {
   "cell_type": "code",
   "execution_count": 3,
   "id": "2167e6e8",
   "metadata": {},
   "outputs": [],
   "source": [
    "departement = gpd.read_parquet('DEPARTEMENT.parquet')"
   ]
  },
  {
   "cell_type": "markdown",
   "id": "3fa7dc6e-a905-4f2d-994e-f79e213696a1",
   "metadata": {},
   "source": [
    "Calcul de la part batî occupée dans le département (la vraie valeur) : "
   ]
  },
  {
   "cell_type": "code",
   "execution_count": 176,
   "id": "7f71fcbc-3966-4bbc-a0c4-69ee78f533c3",
   "metadata": {},
   "outputs": [
    {
     "data": {
      "text/plain": [
       "1.7371116538799352"
      ]
     },
     "execution_count": 176,
     "metadata": {},
     "output_type": "execute_result"
    }
   ],
   "source": [
    "batiment_d = gpd.sjoin(departement, batiment) \n",
    "batiment_d = batiment.iloc[batiment_d.index_right]\n",
    "batiment_d.area.sum() / departement.area.sum() * 100"
   ]
  },
  {
   "cell_type": "markdown",
   "id": "54ad760c-b00c-40ac-bf53-a08ec3cc978d",
   "metadata": {},
   "source": [
    "## Sensibilité au choix de l'origine d'une grille régulière"
   ]
  },
  {
   "cell_type": "markdown",
   "id": "b0c26ad7-f52d-4c14-8229-913ba4377178",
   "metadata": {},
   "source": [
    "#### Constitution d'une grille régulière"
   ]
  },
  {
   "cell_type": "code",
   "execution_count": 50,
   "id": "088e3b63-c9c8-4a5c-9cee-84d9054b9a1f",
   "metadata": {},
   "outputs": [],
   "source": [
    "size = 250 # taille de la grille"
   ]
  },
  {
   "cell_type": "code",
   "execution_count": 51,
   "id": "200877ca",
   "metadata": {},
   "outputs": [],
   "source": [
    "xmin = np.floor(departement.bounds.minx.values[0]/size) * size - size\n",
    "xmax = np.ceil(departement.bounds.maxx.values[0]/size) * size + 2 * size\n",
    "ymin = np.floor(departement.bounds.miny.values[0]/size) * size - size\n",
    "ymax = np.ceil(departement.bounds.maxy.values[0]/size) * size + size"
   ]
  },
  {
   "cell_type": "code",
   "execution_count": 52,
   "id": "75437c1d",
   "metadata": {},
   "outputs": [],
   "source": [
    "x = np.arange(xmin,xmax+size,step=size)\n",
    "y = np.arange(ymin,ymax+size,step=size)\n",
    "result = np.transpose([np.tile(x, len(y)), np.repeat(y, len(x))])\n",
    "df = pd.DataFrame(result, columns=['x', 'y'])"
   ]
  },
  {
   "cell_type": "markdown",
   "id": "1220c890-38ed-405c-84c4-a9571abe411b",
   "metadata": {},
   "source": [
    "#### Calcul de la sensibilité"
   ]
  },
  {
   "cell_type": "code",
   "execution_count": 6,
   "id": "453e560e",
   "metadata": {},
   "outputs": [],
   "source": [
    "def calcul_grille(offset):\n",
    "    grid = gpd.GeoDataFrame(df, geometry=gpd.points_from_xy(df.x+offset[0], df.y+offset[1]), crs=\"EPSG:2154\")\n",
    "    temp_d = gpd.sjoin(departement, grid)\n",
    "    temp_b = gpd.sjoin(grid.iloc[temp_d.index_right],batiment_d)\n",
    "    return([temp_d.shape[0], temp_b.shape[0]])"
   ]
  },
  {
   "cell_type": "code",
   "execution_count": 53,
   "id": "9d639e7a-956f-4047-89f9-4df83a391551",
   "metadata": {},
   "outputs": [],
   "source": [
    "set_offset = 2 # je décalle la grille de set_offset m en setoffset m \n",
    "x_off = np.arange(0,250, set_offset)\n",
    "y_off = np.arange(0,250, set_offset)\n",
    "offsets = list(zip(np.tile(x_off,len(y_off)), np.repeat(y_off, len(x_off))))"
   ]
  },
  {
   "cell_type": "code",
   "execution_count": 40,
   "id": "30243dbe-46c8-4bf2-b83f-d20a5156154d",
   "metadata": {
    "editable": true,
    "slideshow": {
     "slide_type": ""
    },
    "tags": []
   },
   "outputs": [],
   "source": [
    "with Pool(10) as pool: # je paralléliqse les résultats. \n",
    "    test = (pool.map(calcul_grille, offsets))"
   ]
  },
  {
   "cell_type": "code",
   "execution_count": 41,
   "id": "a88eea0e",
   "metadata": {},
   "outputs": [],
   "source": [
    "test = pd.DataFrame(np.array(test), columns=['pts_dep', 'pts_build'])"
   ]
  },
  {
   "cell_type": "code",
   "execution_count": 42,
   "id": "c554f5c6",
   "metadata": {},
   "outputs": [],
   "source": [
    "test['x_off'] = [offset[0] for offset in offsets]\n",
    "test['y_off'] = [offset[1] for offset in offsets]"
   ]
  },
  {
   "cell_type": "markdown",
   "id": "eae1c8c8-9dc9-4fa0-8d59-8d114843817f",
   "metadata": {},
   "source": [
    "#### Examen des résultats"
   ]
  },
  {
   "cell_type": "code",
   "execution_count": 43,
   "id": "bb0be07d",
   "metadata": {},
   "outputs": [],
   "source": [
    "test['tx_art'] = test.pts_build / test.pts_dep * 100"
   ]
  },
  {
   "cell_type": "code",
   "execution_count": 72,
   "id": "0de5e8e9",
   "metadata": {},
   "outputs": [
    {
     "data": {
      "image/png": "[encoded data removed]",
      "text/plain": [
       "<Figure size 640x480 with 1 Axes>"
      ]
     },
     "metadata": {},
     "output_type": "display_data"
    }
   ],
   "source": [
    "test.hist('tx_art', bins=60)\n",
    "plt.title('Moyenne : ' + str(np.round(np.mean(test.tx_art),3)) + ' - Ecart type : ' +  str(np.std(test.tx_art)));"
   ]
  },
  {
   "cell_type": "code",
   "execution_count": 71,
   "id": "ee04b175-d895-46e6-be8f-1fe97c309c75",
   "metadata": {},
   "outputs": [],
   "source": [
    "test.to_parquet('analyse_2m_bati_31.csv')"
   ]
  },
  {
   "cell_type": "markdown",
   "id": "f33962cc-1a35-4ded-af36-a73bb4fbce81",
   "metadata": {},
   "source": [
    "## Sensibilité d'un échantillonnage totalement aléatoire"
   ]
  },
  {
   "cell_type": "markdown",
   "id": "b722dec0-4eb0-434c-92de-d6dc22c5ca39",
   "metadata": {},
   "source": [
    "Pour être comparable a l'analyse précédente, le nombre de points (nh) des échantillons est de 101843 (la moyenne des points des grilles dans le département)."
   ]
  },
  {
   "cell_type": "code",
   "execution_count": 320,
   "id": "85bb3179-3e81-48ac-a48b-b8190cdfc69a",
   "metadata": {},
   "outputs": [],
   "source": [
    "nombre_echantillons = 10000"
   ]
  },
  {
   "cell_type": "code",
   "execution_count": 321,
   "id": "ce4f5336-196f-4ba9-ab49-73faa1e625ce",
   "metadata": {},
   "outputs": [],
   "source": [
    "nh = 101843"
   ]
  },
  {
   "cell_type": "code",
   "execution_count": 330,
   "id": "42d09cdf-c369-4ecc-93c1-0f8691efe5c9",
   "metadata": {},
   "outputs": [],
   "source": [
    "# Pour obtenir nh points dans le département, je suis obligé dans tirer dans l'envelope (le rectangle englobant du département) \n",
    "# puis de restreindre ensuite à l'intersection du département d'où la notion de nh, points dans le département et Nh dans l'envelope\n",
    "Nh = int((nh / departement.iloc[0,:].geometry.area) * departement.envelope.iloc[0].area * 3) # je multiplie par 3 pour avoir de la marge "
   ]
  },
  {
   "cell_type": "code",
   "execution_count": 323,
   "id": "d6e9a22a-9ea3-47d7-906e-d8c22239a8d9",
   "metadata": {},
   "outputs": [],
   "source": [
    "def calcul_aleatoire(seed):\n",
    "    rng = np.random.default_rng(seed)\n",
    "    x = rng.uniform(departement.bounds.minx.values[0],departement.bounds.maxx.values[0],Nh) \n",
    "    y = rng.uniform(departement.bounds.miny.values[0],departement.bounds.maxy.values[0],Nh) \n",
    "    df = pd.DataFrame({'x':x, 'y':y})\n",
    "    grid = gpd.GeoDataFrame(df, geometry=gpd.points_from_xy(df.x, df.y), crs=\"EPSG:2154\")\n",
    "    temp_d = gpd.sjoin(departement, grid)\n",
    "    if  (temp_d.shape[0]>=nh) :\n",
    "        temp_d = temp_d.iloc[rng.choice(np.arange(temp_d.shape[0]),nh, replace=False)]\n",
    "        \n",
    "        temp_b = gpd.sjoin(grid.iloc[temp_d.index_right],batiment_d)\n",
    "        return([temp_d.shape[0], temp_b.shape[0], seed])\n",
    "    else:\n",
    "        return(None)"
   ]
  },
  {
   "cell_type": "code",
   "execution_count": 324,
   "id": "1f9a68f1-ef16-40e3-ab80-eedc7bdca164",
   "metadata": {},
   "outputs": [],
   "source": [
    "with Pool(10) as pool:\n",
    "    test = pool.starmap(calcul_aleatoire, zip(range(nombre_echantillons)))"
   ]
  },
  {
   "cell_type": "code",
   "execution_count": 325,
   "id": "05fff709-3680-4cf5-a227-c1d27d681092",
   "metadata": {},
   "outputs": [],
   "source": [
    "test = pd.DataFrame(np.array(test), columns=['pts_dep', 'pts_build', 'seed'])"
   ]
  },
  {
   "cell_type": "code",
   "execution_count": 326,
   "id": "018766bd-08ee-4a9b-b84e-a1121e9f188e",
   "metadata": {},
   "outputs": [],
   "source": [
    "test['tx_art'] = test.pts_build / test.pts_dep * 100"
   ]
  },
  {
   "cell_type": "code",
   "execution_count": 329,
   "id": "e2c4b531-fc3d-4f77-b47a-b5c9c4122cc8",
   "metadata": {},
   "outputs": [
    {
     "data": {
      "image/png": "[encoded data removed]",
      "text/plain": [
       "<Figure size 640x480 with 1 Axes>"
      ]
     },
     "metadata": {},
     "output_type": "display_data"
    }
   ],
   "source": [
    "test.hist('tx_art', bins=50)\n",
    "plt.title('Moyenne : ' + str(np.round(np.mean(test.tx_art),3)) + ' - Ecart type : ' +  str(np.std(test.tx_art)));"
   ]
  },
  {
   "cell_type": "code",
   "execution_count": 331,
   "id": "9e721c7c-82d9-47c6-9e29-7a6c78656eb7",
   "metadata": {},
   "outputs": [],
   "source": [
    "test.to_parquet('analyse_aleatoire_bati_31.csv')"
   ]
  },
  {
   "cell_type": "code",
   "execution_count": null,
   "id": "190602df-c884-4b1a-b1cc-e72d91809b6a",
   "metadata": {},
   "outputs": [],
   "source": []
  }
 ],
 "metadata": {
  "kernelspec": {
   "display_name": "Python 3 (ipykernel)",
   "language": "python",
   "name": "python3"
  },
  "language_info": {
   "codemirror_mode": {
    "name": "ipython",
    "version": 3
   },
   "file_extension": ".py",
   "mimetype": "text/x-python",
   "name": "python",
   "nbconvert_exporter": "python",
   "pygments_lexer": "ipython3",
   "version": "3.11.4"
  }
 },
 "nbformat": 4,
 "nbformat_minor": 5
}
